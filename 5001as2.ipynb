{
  "nbformat": 4,
  "nbformat_minor": 0,
  "metadata": {
    "colab": {
      "name": "Untitled0.ipynb",
      "provenance": [],
      "authorship_tag": "ABX9TyOliQXj3SvVV8dkUwKTfU6g",
      "include_colab_link": true
    },
    "kernelspec": {
      "name": "python3",
      "display_name": "Python 3"
    },
    "language_info": {
      "name": "python"
    }
  },
  "cells": [
    {
      "cell_type": "markdown",
      "metadata": {
        "id": "view-in-github",
        "colab_type": "text"
      },
      "source": [
        "<a href=\"https://colab.research.google.com/github/xg99/xg99.github.io/blob/main/5001as2.ipynb\" target=\"_parent\"><img src=\"https://colab.research.google.com/assets/colab-badge.svg\" alt=\"Open In Colab\"/></a>"
      ]
    },
    {
      "cell_type": "code",
      "metadata": {
        "colab": {
          "base_uri": "https://localhost:8080/"
        },
        "id": "_DN33lcq3nb3",
        "outputId": "d3544f44-c565-4c3b-f1a7-54810b41fe00"
      },
      "source": [
        "!pip install mpi4py"
      ],
      "execution_count": 2,
      "outputs": [
        {
          "output_type": "stream",
          "name": "stdout",
          "text": [
            "Collecting mpi4py\n",
            "  Downloading mpi4py-3.1.1.tar.gz (2.4 MB)\n",
            "\u001b[K     |████████████████████████████████| 2.4 MB 5.1 MB/s \n",
            "\u001b[?25h  Installing build dependencies ... \u001b[?25l\u001b[?25hdone\n",
            "  Getting requirements to build wheel ... \u001b[?25l\u001b[?25hdone\n",
            "    Preparing wheel metadata ... \u001b[?25l\u001b[?25hdone\n",
            "Building wheels for collected packages: mpi4py\n",
            "  Building wheel for mpi4py (PEP 517) ... \u001b[?25l\u001b[?25hdone\n",
            "  Created wheel for mpi4py: filename=mpi4py-3.1.1-cp37-cp37m-linux_x86_64.whl size=2180603 sha256=cb1d30e869cdaacac01ebfad5815d8c633f23ea1771fe24c2e6b27ff3464e538\n",
            "  Stored in directory: /root/.cache/pip/wheels/91/be/c0/2b0347be1de5cd8ca9fe67da7ec8c3fe8930fcb6b0df6f2255\n",
            "Successfully built mpi4py\n",
            "Installing collected packages: mpi4py\n",
            "Successfully installed mpi4py-3.1.1\n"
          ]
        }
      ]
    },
    {
      "cell_type": "code",
      "metadata": {
        "colab": {
          "base_uri": "https://localhost:8080/"
        },
        "id": "b6LPX2dTttFJ",
        "outputId": "8657b191-9f35-4d38-ef47-eeac1cd12c9e"
      },
      "source": [
        "from mpi4py import MPI\n",
        "import time\n",
        "\n",
        "comm = MPI.COMM_WORLD\n",
        "rank = comm.Get_rank()\n",
        "size = comm.Get_size()\n",
        "\n",
        "def calculate_part(start, step):\n",
        "    sum=0.0\n",
        "    flag=1\n",
        "    for i in range(0,step):\n",
        "        if(start % 2 != 0):\n",
        "            flag=-1\n",
        "        else:\n",
        "            flag=1\n",
        "        sum+=flag * (1/(2*start+1))\n",
        "        start +=1\n",
        "\n",
        "    return sum\n",
        "    \n",
        "N = 1024*1024*64\n",
        "step = N // size\n",
        "start = rank * step\n",
        "\n",
        "t0=time.time()\n",
        "value = calculate_part(start, step)\n",
        "result = 0.0\n",
        "\n",
        "if rank == 0:\n",
        "    result += value\n",
        "    for i in range(1,size):\n",
        "        value = comm.recv(source=i, tag=0)\n",
        "        result += value\n",
        "    t1=time.time()\n",
        "    print('PI is : ',result * 4)\n",
        "    print('time cost is', t1 - t0, 's')\n",
        "    \n",
        "else:\n",
        "    comm.send(value, dest=0, tag=0)"
      ],
      "execution_count": 12,
      "outputs": [
        {
          "output_type": "stream",
          "name": "stdout",
          "text": [
            "PI is :  3.1415926386888584\n",
            "time cost is 20.813380002975464 s\n"
          ]
        }
      ]
    },
    {
      "cell_type": "code",
      "metadata": {
        "colab": {
          "base_uri": "https://localhost:8080/"
        },
        "id": "9uOuv9HLuUw9",
        "outputId": "e83e0885-55f2-4f7c-e59d-112ebcfeae53"
      },
      "source": [
        "from mpi4py import MPI\n",
        "import time\n",
        "comm = MPI.COMM_WORLD\n",
        "rank = comm.Get_rank()\n",
        "size = comm.Get_size()\n",
        "def calculate_part(start, step):\n",
        "    sum=0.0\n",
        "    flag=1\n",
        "    for i in range(0,step):\n",
        "        if(start % 2 != 0):\n",
        "            flag=-1\n",
        "        else:\n",
        "            flag=1\n",
        "        sum+=flag * (1/(2*start+1))\n",
        "        start +=1\n",
        "    return sum\n",
        "    \n",
        "N = 1024*1024*64\n",
        "step = N // size\n",
        "start = rank * step\n",
        "t0=time.time()\n",
        "value = calculate_part(start, step)\n",
        "result = 0.0\n",
        "if rank == 0:\n",
        "    result += value\n",
        "    for i in range(1,size):\n",
        "        value = comm.recv(source=i, tag=0)\n",
        "        result += value\n",
        "    t1=time.time()\n",
        "    print('PI is : ',result * 4)\n",
        "    print('time cost is', t1 - t0, 's')\n",
        "    \n",
        "else:\n",
        "    comm.send(value, dest=0, tag=0)"
      ],
      "execution_count": 15,
      "outputs": [
        {
          "output_type": "stream",
          "name": "stdout",
          "text": [
            "PI is :  3.1415926386888584\n",
            "time cost is 21.004154682159424 s\n"
          ]
        }
      ]
    }
  ]
}